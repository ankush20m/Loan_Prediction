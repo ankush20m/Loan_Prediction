{
 "cells": [
  {
   "cell_type": "markdown",
   "metadata": {},
   "source": [
    "<h1 style='color: green'> Loan Prediction III </h1>"
   ]
  },
  {
   "cell_type": "markdown",
   "metadata": {},
   "source": [
    "<h1 style='color: black'> Problem Statement: </h1>\n",
    "\n",
    "<h1 style='color: green'> About Company: </h1>\n",
    "\n",
    "<h2 style='color: black'> Dream Housing Finance company deals in all home loans. They have presence across all urban, semi urban and rural areas. Customer first apply for home loan after that company validates the customer eligibility for loan.\n",
    "</h2>\n",
    "\n",
    "<hr>\n",
    "\n",
    "<h1 style='color: green'> Problem: </h1>\n",
    "\n",
    "<h2 style='color: black'> Company wants to automate the loan eligibility process (real time) based on customer detail provided while filling online application form. These details are Gender, Marital Status, Education, Number of Dependents, Income, Loan Amount, Credit History and others. To automate this process, they have given a problem to identify the customers segments, those are eligible for loan amount so that they can specifically target these customers. Here they have provided a partial data set.\n",
    "</h2>"
   ]
  },
  {
   "cell_type": "markdown",
   "metadata": {},
   "source": [
    "<h1 style='color: green'> Data </h1>\n",
    "\n",
    "<table>\n",
    "    <tr><th>Variable</th> <th>Description</th></tr>\n",
    "    <tr><th>Loan_ID</th> <td>Unique Loan ID</td></tr>\n",
    "    <tr><th>Gender</th> <td>Male/Female</td></tr>\n",
    "    <tr><th>Married</th> <td>Applicant married (Y/N)</td></tr>\n",
    "    <tr><th>Dependents</th> <td>Number of dependents</td></tr>\n",
    "    <tr><th>Education</th> <td>Applicant education (Graduate/Under Graduate)</td></tr>\n",
    "    <tr><th>Self_Employed</th> <td>Self employed (Y/N)</td></tr>\n",
    "    <tr><th>ApplicantIncome</th> <td>Applicant income</td></tr>\n",
    "    <tr><th>CoapplicantIncome</th> <td>Coapplicant income</td></tr>\n",
    "    <tr><th>Loan_Amount</th> <td>Loan amount in thousands</td></tr>\n",
    "    <tr><th>Loan_Amount_Term</th> <td>Term of loan in months</td></tr>\n",
    "    <tr><th>Credit_History</th> <td>Credit history meets guidelines</td></tr>\n",
    "    <tr><th>Property_Area</th> <td>Urban / Semi Urban / Rural</td></tr>\n",
    "    <tr><th>Loan_Status</th> <td>Loan approved (Y/N)</td></tr>\n",
    "</table>"
   ]
  },
  {
   "cell_type": "markdown",
   "metadata": {},
   "source": [
    "# Note: \n",
    "## Evaluation Metric is accuracy i.e. percentage of loan approval you correctly predict."
   ]
  }
 ],
 "metadata": {
  "kernelspec": {
   "display_name": "Python 3",
   "language": "python",
   "name": "python3"
  },
  "language_info": {
   "codemirror_mode": {
    "name": "ipython",
    "version": 3
   },
   "file_extension": ".py",
   "mimetype": "text/x-python",
   "name": "python",
   "nbconvert_exporter": "python",
   "pygments_lexer": "ipython3",
   "version": "3.6.5"
  }
 },
 "nbformat": 4,
 "nbformat_minor": 2
}
